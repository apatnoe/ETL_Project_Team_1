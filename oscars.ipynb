{
 "metadata": {
  "language_info": {
   "codemirror_mode": {
    "name": "ipython",
    "version": 3
   },
   "file_extension": ".py",
   "mimetype": "text/x-python",
   "name": "python",
   "nbconvert_exporter": "python",
   "pygments_lexer": "ipython3",
   "version": "3.8.5-final"
  },
  "orig_nbformat": 2,
  "kernelspec": {
   "name": "python3",
   "display_name": "Python 3.8.5 64-bit (conda)",
   "metadata": {
    "interpreter": {
     "hash": "7eeb5d4e2010c011f7c89c755a420ad09e201e676fb46bca55a9706f8dfe6eea"
    }
   }
  }
 },
 "nbformat": 4,
 "nbformat_minor": 2,
 "cells": [
  {
   "cell_type": "code",
   "execution_count": 48,
   "metadata": {},
   "outputs": [],
   "source": [
    "import pandas as pd\n",
    "from sqlalchemy import create_engine"
   ]
  },
  {
   "cell_type": "code",
   "execution_count": 49,
   "metadata": {},
   "outputs": [
    {
     "output_type": "execute_result",
     "data": {
      "text/plain": [
       "   year_film  year_ceremony  ceremony category                 name  \\\n",
       "0       1927           1928         1    ACTOR  Richard Barthelmess   \n",
       "1       1927           1928         1    ACTOR        Emil Jannings   \n",
       "2       1927           1928         1  ACTRESS       Louise Dresser   \n",
       "3       1927           1928         1  ACTRESS         Janet Gaynor   \n",
       "4       1927           1928         1  ACTRESS       Gloria Swanson   \n",
       "\n",
       "               film  winner  \n",
       "0         The Noose   False  \n",
       "1  The Last Command    True  \n",
       "2   A Ship Comes In   False  \n",
       "3        7th Heaven    True  \n",
       "4    Sadie Thompson   False  "
      ],
      "text/html": "<div>\n<style scoped>\n    .dataframe tbody tr th:only-of-type {\n        vertical-align: middle;\n    }\n\n    .dataframe tbody tr th {\n        vertical-align: top;\n    }\n\n    .dataframe thead th {\n        text-align: right;\n    }\n</style>\n<table border=\"1\" class=\"dataframe\">\n  <thead>\n    <tr style=\"text-align: right;\">\n      <th></th>\n      <th>year_film</th>\n      <th>year_ceremony</th>\n      <th>ceremony</th>\n      <th>category</th>\n      <th>name</th>\n      <th>film</th>\n      <th>winner</th>\n    </tr>\n  </thead>\n  <tbody>\n    <tr>\n      <th>0</th>\n      <td>1927</td>\n      <td>1928</td>\n      <td>1</td>\n      <td>ACTOR</td>\n      <td>Richard Barthelmess</td>\n      <td>The Noose</td>\n      <td>False</td>\n    </tr>\n    <tr>\n      <th>1</th>\n      <td>1927</td>\n      <td>1928</td>\n      <td>1</td>\n      <td>ACTOR</td>\n      <td>Emil Jannings</td>\n      <td>The Last Command</td>\n      <td>True</td>\n    </tr>\n    <tr>\n      <th>2</th>\n      <td>1927</td>\n      <td>1928</td>\n      <td>1</td>\n      <td>ACTRESS</td>\n      <td>Louise Dresser</td>\n      <td>A Ship Comes In</td>\n      <td>False</td>\n    </tr>\n    <tr>\n      <th>3</th>\n      <td>1927</td>\n      <td>1928</td>\n      <td>1</td>\n      <td>ACTRESS</td>\n      <td>Janet Gaynor</td>\n      <td>7th Heaven</td>\n      <td>True</td>\n    </tr>\n    <tr>\n      <th>4</th>\n      <td>1927</td>\n      <td>1928</td>\n      <td>1</td>\n      <td>ACTRESS</td>\n      <td>Gloria Swanson</td>\n      <td>Sadie Thompson</td>\n      <td>False</td>\n    </tr>\n  </tbody>\n</table>\n</div>"
     },
     "metadata": {},
     "execution_count": 49
    }
   ],
   "source": [
    "# upload data\n",
    "oscars_file = \"Resources/the_oscar_award.csv\"\n",
    "\n",
    "# create dataframe and view data\n",
    "raw_oscars_df = pd.read_csv(oscars_file)\n",
    "raw_oscars_df.head()"
   ]
  },
  {
   "cell_type": "code",
   "execution_count": 69,
   "metadata": {},
   "outputs": [
    {
     "output_type": "execute_result",
     "data": {
      "text/plain": [
       "                  year_film  year_ceremony  ceremony  \\\n",
       "film                                                   \n",
       "The Last Command       1927           1928         1   \n",
       "7th Heaven             1927           1928         1   \n",
       "The Dove;              1927           1928         1   \n",
       "Sunrise                1927           1928         1   \n",
       "Sunrise                1927           1928         1   \n",
       "...                     ...            ...       ...   \n",
       "Ford v Ferrari         2019           2020        92   \n",
       "1917                   2019           2020        92   \n",
       "1917                   2019           2020        92   \n",
       "Jojo Rabbit            2019           2020        92   \n",
       "Parasite               2019           2020        92   \n",
       "\n",
       "                                       category  \\\n",
       "film                                              \n",
       "The Last Command                          ACTOR   \n",
       "7th Heaven                              ACTRESS   \n",
       "The Dove;                         ART DIRECTION   \n",
       "Sunrise                          CINEMATOGRAPHY   \n",
       "Sunrise                          CINEMATOGRAPHY   \n",
       "...                                         ...   \n",
       "Ford v Ferrari                    SOUND EDITING   \n",
       "1917                               SOUND MIXING   \n",
       "1917                             VISUAL EFFECTS   \n",
       "Jojo Rabbit        WRITING (Adapted Screenplay)   \n",
       "Parasite          WRITING (Original Screenplay)   \n",
       "\n",
       "                                                     name_of_winner  winner  \n",
       "film                                                                         \n",
       "The Last Command                                      Emil Jannings    True  \n",
       "7th Heaven                                             Janet Gaynor    True  \n",
       "The Dove;                                   William Cameron Menzies    True  \n",
       "Sunrise                                              Charles Rosher    True  \n",
       "Sunrise                                                 Karl Struss    True  \n",
       "...                                                             ...     ...  \n",
       "Ford v Ferrari                                     Donald Sylvester    True  \n",
       "1917                                  Mark Taylor and Stuart Wilson    True  \n",
       "1917              Guillaume Rocheron, Greg Butler and Dominic Tuohy    True  \n",
       "Jojo Rabbit                             Screenplay by Taika Waititi    True  \n",
       "Parasite          Screenplay by Bong Joon Ho, Han Jin Won; Story...    True  \n",
       "\n",
       "[2079 rows x 6 columns]"
      ],
      "text/html": "<div>\n<style scoped>\n    .dataframe tbody tr th:only-of-type {\n        vertical-align: middle;\n    }\n\n    .dataframe tbody tr th {\n        vertical-align: top;\n    }\n\n    .dataframe thead th {\n        text-align: right;\n    }\n</style>\n<table border=\"1\" class=\"dataframe\">\n  <thead>\n    <tr style=\"text-align: right;\">\n      <th></th>\n      <th>year_film</th>\n      <th>year_ceremony</th>\n      <th>ceremony</th>\n      <th>category</th>\n      <th>name_of_winner</th>\n      <th>winner</th>\n    </tr>\n    <tr>\n      <th>film</th>\n      <th></th>\n      <th></th>\n      <th></th>\n      <th></th>\n      <th></th>\n      <th></th>\n    </tr>\n  </thead>\n  <tbody>\n    <tr>\n      <th>The Last Command</th>\n      <td>1927</td>\n      <td>1928</td>\n      <td>1</td>\n      <td>ACTOR</td>\n      <td>Emil Jannings</td>\n      <td>True</td>\n    </tr>\n    <tr>\n      <th>7th Heaven</th>\n      <td>1927</td>\n      <td>1928</td>\n      <td>1</td>\n      <td>ACTRESS</td>\n      <td>Janet Gaynor</td>\n      <td>True</td>\n    </tr>\n    <tr>\n      <th>The Dove;</th>\n      <td>1927</td>\n      <td>1928</td>\n      <td>1</td>\n      <td>ART DIRECTION</td>\n      <td>William Cameron Menzies</td>\n      <td>True</td>\n    </tr>\n    <tr>\n      <th>Sunrise</th>\n      <td>1927</td>\n      <td>1928</td>\n      <td>1</td>\n      <td>CINEMATOGRAPHY</td>\n      <td>Charles Rosher</td>\n      <td>True</td>\n    </tr>\n    <tr>\n      <th>Sunrise</th>\n      <td>1927</td>\n      <td>1928</td>\n      <td>1</td>\n      <td>CINEMATOGRAPHY</td>\n      <td>Karl Struss</td>\n      <td>True</td>\n    </tr>\n    <tr>\n      <th>...</th>\n      <td>...</td>\n      <td>...</td>\n      <td>...</td>\n      <td>...</td>\n      <td>...</td>\n      <td>...</td>\n    </tr>\n    <tr>\n      <th>Ford v Ferrari</th>\n      <td>2019</td>\n      <td>2020</td>\n      <td>92</td>\n      <td>SOUND EDITING</td>\n      <td>Donald Sylvester</td>\n      <td>True</td>\n    </tr>\n    <tr>\n      <th>1917</th>\n      <td>2019</td>\n      <td>2020</td>\n      <td>92</td>\n      <td>SOUND MIXING</td>\n      <td>Mark Taylor and Stuart Wilson</td>\n      <td>True</td>\n    </tr>\n    <tr>\n      <th>1917</th>\n      <td>2019</td>\n      <td>2020</td>\n      <td>92</td>\n      <td>VISUAL EFFECTS</td>\n      <td>Guillaume Rocheron, Greg Butler and Dominic Tuohy</td>\n      <td>True</td>\n    </tr>\n    <tr>\n      <th>Jojo Rabbit</th>\n      <td>2019</td>\n      <td>2020</td>\n      <td>92</td>\n      <td>WRITING (Adapted Screenplay)</td>\n      <td>Screenplay by Taika Waititi</td>\n      <td>True</td>\n    </tr>\n    <tr>\n      <th>Parasite</th>\n      <td>2019</td>\n      <td>2020</td>\n      <td>92</td>\n      <td>WRITING (Original Screenplay)</td>\n      <td>Screenplay by Bong Joon Ho, Han Jin Won; Story...</td>\n      <td>True</td>\n    </tr>\n  </tbody>\n</table>\n<p>2079 rows × 6 columns</p>\n</div>"
     },
     "metadata": {},
     "execution_count": 69
    }
   ],
   "source": [
    "# filter dataframe for winners and rename name to name of winner\n",
    "oscars_data_df = raw_oscars_df.loc[raw_oscars_df['winner'] == True].rename(columns={'name': 'name_of_winner'}).dropna()\n",
    "\n",
    "# set index to film for upload in SQL as primary key\n",
    "oscars_data_df.set_index(['film'], inplace = True)\n",
    "\n",
    "oscars_data_df\n"
   ]
  },
  {
   "cell_type": "code",
   "execution_count": 70,
   "metadata": {},
   "outputs": [
    {
     "output_type": "execute_result",
     "data": {
      "text/plain": [
       "                                       category\n",
       "film                                           \n",
       "The Last Command                          ACTOR\n",
       "7th Heaven                              ACTRESS\n",
       "The Dove;                         ART DIRECTION\n",
       "Sunrise                          CINEMATOGRAPHY\n",
       "Sunrise                          CINEMATOGRAPHY\n",
       "...                                         ...\n",
       "Ford v Ferrari                    SOUND EDITING\n",
       "1917                               SOUND MIXING\n",
       "1917                             VISUAL EFFECTS\n",
       "Jojo Rabbit        WRITING (Adapted Screenplay)\n",
       "Parasite          WRITING (Original Screenplay)\n",
       "\n",
       "[2079 rows x 1 columns]"
      ],
      "text/html": "<div>\n<style scoped>\n    .dataframe tbody tr th:only-of-type {\n        vertical-align: middle;\n    }\n\n    .dataframe tbody tr th {\n        vertical-align: top;\n    }\n\n    .dataframe thead th {\n        text-align: right;\n    }\n</style>\n<table border=\"1\" class=\"dataframe\">\n  <thead>\n    <tr style=\"text-align: right;\">\n      <th></th>\n      <th>category</th>\n    </tr>\n    <tr>\n      <th>film</th>\n      <th></th>\n    </tr>\n  </thead>\n  <tbody>\n    <tr>\n      <th>The Last Command</th>\n      <td>ACTOR</td>\n    </tr>\n    <tr>\n      <th>7th Heaven</th>\n      <td>ACTRESS</td>\n    </tr>\n    <tr>\n      <th>The Dove;</th>\n      <td>ART DIRECTION</td>\n    </tr>\n    <tr>\n      <th>Sunrise</th>\n      <td>CINEMATOGRAPHY</td>\n    </tr>\n    <tr>\n      <th>Sunrise</th>\n      <td>CINEMATOGRAPHY</td>\n    </tr>\n    <tr>\n      <th>...</th>\n      <td>...</td>\n    </tr>\n    <tr>\n      <th>Ford v Ferrari</th>\n      <td>SOUND EDITING</td>\n    </tr>\n    <tr>\n      <th>1917</th>\n      <td>SOUND MIXING</td>\n    </tr>\n    <tr>\n      <th>1917</th>\n      <td>VISUAL EFFECTS</td>\n    </tr>\n    <tr>\n      <th>Jojo Rabbit</th>\n      <td>WRITING (Adapted Screenplay)</td>\n    </tr>\n    <tr>\n      <th>Parasite</th>\n      <td>WRITING (Original Screenplay)</td>\n    </tr>\n  </tbody>\n</table>\n<p>2079 rows × 1 columns</p>\n</div>"
     },
     "metadata": {},
     "execution_count": 70
    }
   ],
   "source": [
    "# create a separate dataframe that will summarize the number of awards by film \n",
    "subset_oscars = oscars_data_df[['category']]\n",
    "\n",
    "subset_oscars"
   ]
  },
  {
   "cell_type": "code",
   "execution_count": 71,
   "metadata": {},
   "outputs": [
    {
     "output_type": "execute_result",
     "data": {
      "text/plain": [
       "                                               categories_won\n",
       "film                                                         \n",
       "Titanic                                                    12\n",
       "The Lord of the Rings: The Return of the King              11\n",
       "Ben-Hur                                                    11\n",
       "West Side Story                                            10\n",
       "Gigi                                                        9\n",
       "The English Patient                                         9\n",
       "The Last Emperor                                            9\n",
       "Gandhi                                                      8\n",
       "On the Waterfront                                           8\n",
       "Slumdog Millionaire                                         8\n",
       "Amadeus                                                     8\n",
       "From Here to Eternity                                       8\n",
       "Cabaret                                                     8\n",
       "My Fair Lady                                                8\n",
       "Gone with the Wind                                          8\n",
       "The Sting                                                   7\n",
       "Gravity                                                     7\n",
       "Schindler's List                                            7\n",
       "Dances With Wolves                                          7\n",
       "Lawrence of Arabia                                          7\n",
       "Out of Africa                                               7\n",
       "Shakespeare in Love                                         7\n",
       "The Bridge on the River Kwai                                7\n",
       "The Best Years of Our Lives                                 7\n",
       "Going My Way                                                7\n",
       "Patton                                                      7\n",
       "All about Eve                                               6\n",
       "An American in Paris                                        6\n",
       "The Godfather Part II                                       6\n",
       "Mrs. Miniver                                                6"
      ],
      "text/html": "<div>\n<style scoped>\n    .dataframe tbody tr th:only-of-type {\n        vertical-align: middle;\n    }\n\n    .dataframe tbody tr th {\n        vertical-align: top;\n    }\n\n    .dataframe thead th {\n        text-align: right;\n    }\n</style>\n<table border=\"1\" class=\"dataframe\">\n  <thead>\n    <tr style=\"text-align: right;\">\n      <th></th>\n      <th>categories_won</th>\n    </tr>\n    <tr>\n      <th>film</th>\n      <th></th>\n    </tr>\n  </thead>\n  <tbody>\n    <tr>\n      <th>Titanic</th>\n      <td>12</td>\n    </tr>\n    <tr>\n      <th>The Lord of the Rings: The Return of the King</th>\n      <td>11</td>\n    </tr>\n    <tr>\n      <th>Ben-Hur</th>\n      <td>11</td>\n    </tr>\n    <tr>\n      <th>West Side Story</th>\n      <td>10</td>\n    </tr>\n    <tr>\n      <th>Gigi</th>\n      <td>9</td>\n    </tr>\n    <tr>\n      <th>The English Patient</th>\n      <td>9</td>\n    </tr>\n    <tr>\n      <th>The Last Emperor</th>\n      <td>9</td>\n    </tr>\n    <tr>\n      <th>Gandhi</th>\n      <td>8</td>\n    </tr>\n    <tr>\n      <th>On the Waterfront</th>\n      <td>8</td>\n    </tr>\n    <tr>\n      <th>Slumdog Millionaire</th>\n      <td>8</td>\n    </tr>\n    <tr>\n      <th>Amadeus</th>\n      <td>8</td>\n    </tr>\n    <tr>\n      <th>From Here to Eternity</th>\n      <td>8</td>\n    </tr>\n    <tr>\n      <th>Cabaret</th>\n      <td>8</td>\n    </tr>\n    <tr>\n      <th>My Fair Lady</th>\n      <td>8</td>\n    </tr>\n    <tr>\n      <th>Gone with the Wind</th>\n      <td>8</td>\n    </tr>\n    <tr>\n      <th>The Sting</th>\n      <td>7</td>\n    </tr>\n    <tr>\n      <th>Gravity</th>\n      <td>7</td>\n    </tr>\n    <tr>\n      <th>Schindler's List</th>\n      <td>7</td>\n    </tr>\n    <tr>\n      <th>Dances With Wolves</th>\n      <td>7</td>\n    </tr>\n    <tr>\n      <th>Lawrence of Arabia</th>\n      <td>7</td>\n    </tr>\n    <tr>\n      <th>Out of Africa</th>\n      <td>7</td>\n    </tr>\n    <tr>\n      <th>Shakespeare in Love</th>\n      <td>7</td>\n    </tr>\n    <tr>\n      <th>The Bridge on the River Kwai</th>\n      <td>7</td>\n    </tr>\n    <tr>\n      <th>The Best Years of Our Lives</th>\n      <td>7</td>\n    </tr>\n    <tr>\n      <th>Going My Way</th>\n      <td>7</td>\n    </tr>\n    <tr>\n      <th>Patton</th>\n      <td>7</td>\n    </tr>\n    <tr>\n      <th>All about Eve</th>\n      <td>6</td>\n    </tr>\n    <tr>\n      <th>An American in Paris</th>\n      <td>6</td>\n    </tr>\n    <tr>\n      <th>The Godfather Part II</th>\n      <td>6</td>\n    </tr>\n    <tr>\n      <th>Mrs. Miniver</th>\n      <td>6</td>\n    </tr>\n  </tbody>\n</table>\n</div>"
     },
     "metadata": {},
     "execution_count": 71
    }
   ],
   "source": [
    "# count categories won by film and sort descending\n",
    "oscars_by_film =subset_oscars.groupby('film').count().sort_values('category', ascending = False).rename(columns={'category': 'categories_won'})\n",
    "\n",
    "oscars_by_film.head(30)"
   ]
  },
  {
   "cell_type": "code",
   "execution_count": 72,
   "metadata": {},
   "outputs": [],
   "source": [
    "# import pgAdmin password \n",
    "from my_secrets import pw"
   ]
  },
  {
   "cell_type": "code",
   "execution_count": 73,
   "metadata": {},
   "outputs": [],
   "source": [
    "# create connection to the database and the engine\n",
    "rds_connection_string = f\"postgres:{pw}@localhost:5432/movies_db\"\n",
    "engine = create_engine(f'postgresql://{rds_connection_string}')\n",
    "\n"
   ]
  },
  {
   "cell_type": "code",
   "execution_count": 75,
   "metadata": {},
   "outputs": [],
   "source": [
    "# upload dataframes to SQL database\n",
    "oscars_data_df.to_sql(name='oscars_data', con=engine, if_exists='append', index=True)\n",
    "oscars_by_film.to_sql(name='total_oscars_by_film', con=engine, if_exists='append', index=True)"
   ]
  },
  {
   "cell_type": "code",
   "execution_count": 76,
   "metadata": {},
   "outputs": [
    {
     "output_type": "execute_result",
     "data": {
      "text/plain": [
       "['imdb', 'oscars_data', 'total_oscars_by_film']"
      ]
     },
     "metadata": {},
     "execution_count": 76
    }
   ],
   "source": [
    "# pull table names to test\n",
    "engine.table_names()"
   ]
  },
  {
   "cell_type": "code",
   "execution_count": null,
   "metadata": {},
   "outputs": [],
   "source": []
  }
 ]
}