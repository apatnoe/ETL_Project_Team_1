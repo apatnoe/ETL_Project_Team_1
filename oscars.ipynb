{
 "metadata": {
  "language_info": {
   "codemirror_mode": {
    "name": "ipython",
    "version": 3
   },
   "file_extension": ".py",
   "mimetype": "text/x-python",
   "name": "python",
   "nbconvert_exporter": "python",
   "pygments_lexer": "ipython3",
   "version": "3.8.5-final"
  },
  "orig_nbformat": 2,
  "kernelspec": {
   "name": "python3",
   "display_name": "Python 3.8.5 64-bit (conda)",
   "metadata": {
    "interpreter": {
     "hash": "7eeb5d4e2010c011f7c89c755a420ad09e201e676fb46bca55a9706f8dfe6eea"
    }
   }
  }
 },
 "nbformat": 4,
 "nbformat_minor": 2,
 "cells": [
  {
   "cell_type": "code",
   "execution_count": 1,
   "metadata": {},
   "outputs": [],
   "source": [
    "import pandas as pd\n",
    "from sqlalchemy import create_engine"
   ]
  },
  {
   "cell_type": "code",
   "execution_count": 3,
   "metadata": {},
   "outputs": [
    {
     "output_type": "execute_result",
     "data": {
      "text/plain": [
       "   year_film  year_ceremony  ceremony category                 name  \\\n",
       "0       1927           1928         1    ACTOR  Richard Barthelmess   \n",
       "1       1927           1928         1    ACTOR        Emil Jannings   \n",
       "2       1927           1928         1  ACTRESS       Louise Dresser   \n",
       "3       1927           1928         1  ACTRESS         Janet Gaynor   \n",
       "4       1927           1928         1  ACTRESS       Gloria Swanson   \n",
       "\n",
       "               film  winner  \n",
       "0         The Noose   False  \n",
       "1  The Last Command    True  \n",
       "2   A Ship Comes In   False  \n",
       "3        7th Heaven    True  \n",
       "4    Sadie Thompson   False  "
      ],
      "text/html": "<div>\n<style scoped>\n    .dataframe tbody tr th:only-of-type {\n        vertical-align: middle;\n    }\n\n    .dataframe tbody tr th {\n        vertical-align: top;\n    }\n\n    .dataframe thead th {\n        text-align: right;\n    }\n</style>\n<table border=\"1\" class=\"dataframe\">\n  <thead>\n    <tr style=\"text-align: right;\">\n      <th></th>\n      <th>year_film</th>\n      <th>year_ceremony</th>\n      <th>ceremony</th>\n      <th>category</th>\n      <th>name</th>\n      <th>film</th>\n      <th>winner</th>\n    </tr>\n  </thead>\n  <tbody>\n    <tr>\n      <th>0</th>\n      <td>1927</td>\n      <td>1928</td>\n      <td>1</td>\n      <td>ACTOR</td>\n      <td>Richard Barthelmess</td>\n      <td>The Noose</td>\n      <td>False</td>\n    </tr>\n    <tr>\n      <th>1</th>\n      <td>1927</td>\n      <td>1928</td>\n      <td>1</td>\n      <td>ACTOR</td>\n      <td>Emil Jannings</td>\n      <td>The Last Command</td>\n      <td>True</td>\n    </tr>\n    <tr>\n      <th>2</th>\n      <td>1927</td>\n      <td>1928</td>\n      <td>1</td>\n      <td>ACTRESS</td>\n      <td>Louise Dresser</td>\n      <td>A Ship Comes In</td>\n      <td>False</td>\n    </tr>\n    <tr>\n      <th>3</th>\n      <td>1927</td>\n      <td>1928</td>\n      <td>1</td>\n      <td>ACTRESS</td>\n      <td>Janet Gaynor</td>\n      <td>7th Heaven</td>\n      <td>True</td>\n    </tr>\n    <tr>\n      <th>4</th>\n      <td>1927</td>\n      <td>1928</td>\n      <td>1</td>\n      <td>ACTRESS</td>\n      <td>Gloria Swanson</td>\n      <td>Sadie Thompson</td>\n      <td>False</td>\n    </tr>\n  </tbody>\n</table>\n</div>"
     },
     "metadata": {},
     "execution_count": 3
    }
   ],
   "source": [
    "oscars_file = \"Resources/the_oscar_award.csv\"\n",
    "oscars_df = pd.read_csv(oscars_file)\n",
    "oscars_df.head()"
   ]
  },
  {
   "cell_type": "code",
   "execution_count": null,
   "metadata": {},
   "outputs": [],
   "source": []
  },
  {
   "cell_type": "code",
   "execution_count": null,
   "metadata": {},
   "outputs": [],
   "source": []
  },
  {
   "cell_type": "code",
   "execution_count": null,
   "metadata": {},
   "outputs": [],
   "source": []
  },
  {
   "cell_type": "code",
   "execution_count": null,
   "metadata": {},
   "outputs": [],
   "source": []
  },
  {
   "cell_type": "code",
   "execution_count": null,
   "metadata": {},
   "outputs": [],
   "source": []
  },
  {
   "cell_type": "code",
   "execution_count": null,
   "metadata": {},
   "outputs": [],
   "source": []
  },
  {
   "cell_type": "code",
   "execution_count": null,
   "metadata": {},
   "outputs": [],
   "source": []
  },
  {
   "cell_type": "code",
   "execution_count": null,
   "metadata": {},
   "outputs": [],
   "source": []
  }
 ]
}